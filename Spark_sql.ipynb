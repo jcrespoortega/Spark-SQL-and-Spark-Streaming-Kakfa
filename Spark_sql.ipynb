{
 "cells": [
  {
   "cell_type": "code",
   "execution_count": 1,
   "metadata": {},
   "outputs": [
    {
     "name": "stdout",
     "output_type": "stream",
     "text": [
      "<pyspark.sql.session.SparkSession object at 0x7f61ae520e80>\n",
      "<SparkContext master=local[*] appName=motogp>\n"
     ]
    }
   ],
   "source": [
    "import pyspark\n",
    "from pyspark.sql import SparkSession\n",
    "spark = (SparkSession.builder\n",
    "    .master(\"local[*]\")\n",
    "    .config(\"spark.driver.cores\", 1)\n",
    "    .appName(\"motogp\")\n",
    "    .getOrCreate() )\n",
    "sc = spark.sparkContext\n",
    "print(spark)\n",
    "print(sc)"
   ]
  },
  {
   "cell_type": "code",
   "execution_count": 2,
   "metadata": {
    "collapsed": true
   },
   "outputs": [],
   "source": [
    "from pyspark.sql.types import *\n",
    "from pyspark.sql.functions import *\n",
    "customSchema = StructType([StructField(\"Id\", LongType(), True),\n",
    "                           StructField(\"Parent_sys_id\", StringType(), True),\n",
    "                           StructField(\"Source\", StringType(), True),\n",
    "                           StructField(\"Mentions\", StringType(), True),\n",
    "                           StructField(\"Target\", StringType(), True),\n",
    "                           StructField(\"Name_source\", StringType(), True),\n",
    "                           StructField(\"Body\", StringType(), True),\n",
    "                           StructField(\"Pub_date\", TimestampType(), True),\n",
    "                           StructField(\"URLs\", StringType(), True),\n",
    "                           StructField(\"Tipe_action\", StringType(), True),\n",
    "                           StructField(\"Link\", StringType(), True),\n",
    "                           StructField(\"Has_link\", ByteType(), True),\n",
    "                           StructField(\"Has_picture\", ByteType(), True),\n",
    "                           StructField(\"Website\", StringType(), True),\n",
    "                           StructField(\"Country\", StringType(), True),\n",
    "                           StructField(\"Activity\", LongType(), True),\n",
    "                           StructField(\"Followers\", LongType(), True),\n",
    "                           StructField(\"Following\", LongType(), True),\n",
    "                           StructField(\"Location\", StringType(), True)\n",
    "                          ])"
   ]
  },
  {
   "cell_type": "code",
   "execution_count": 3,
   "metadata": {
    "collapsed": true
   },
   "outputs": [],
   "source": [
    "events = spark.read.csv(\"DATASET-Twitter-23-26-Mar-2014-MotoGP-Qatar.csv\",\n",
    "                        header=True, schema=customSchema, timestampFormat=\"dd/MM/yyyy HH:mm\")\n",
    "                        "
   ]
  },
  {
   "cell_type": "code",
   "execution_count": 4,
   "metadata": {},
   "outputs": [
    {
     "name": "stdout",
     "output_type": "stream",
     "text": [
      "root\n",
      " |-- Id: long (nullable = true)\n",
      " |-- Parent_sys_id: string (nullable = true)\n",
      " |-- Source: string (nullable = true)\n",
      " |-- Mentions: string (nullable = true)\n",
      " |-- Target: string (nullable = true)\n",
      " |-- Name_source: string (nullable = true)\n",
      " |-- Body: string (nullable = true)\n",
      " |-- Pub_date: timestamp (nullable = true)\n",
      " |-- URLs: string (nullable = true)\n",
      " |-- Tipe_action: string (nullable = true)\n",
      " |-- Link: string (nullable = true)\n",
      " |-- Has_link: byte (nullable = true)\n",
      " |-- Has_picture: byte (nullable = true)\n",
      " |-- Website: string (nullable = true)\n",
      " |-- Country: string (nullable = true)\n",
      " |-- Activity: long (nullable = true)\n",
      " |-- Followers: long (nullable = true)\n",
      " |-- Following: long (nullable = true)\n",
      " |-- Location: string (nullable = true)\n",
      "\n"
     ]
    }
   ],
   "source": [
    "events.printSchema()"
   ]
  },
  {
   "cell_type": "markdown",
   "metadata": {},
   "source": [
    "## Consulta 1"
   ]
  },
  {
   "cell_type": "markdown",
   "metadata": {},
   "source": [
    "Calcular el número total de tweets por usuario para los 150 usuarios con más mensajes en la muestra de tweet analizados. Calcular para cada uno de estos usuarios la media de hastags enviados por mensaje."
   ]
  },
  {
   "cell_type": "markdown",
   "metadata": {},
   "source": [
    "### Consulta 1a"
   ]
  },
  {
   "cell_type": "markdown",
   "metadata": {},
   "source": [
    "En esta consulta vamos a obtener los 150 usuarios con más mensajes."
   ]
  },
  {
   "cell_type": "code",
   "execution_count": 5,
   "metadata": {
    "collapsed": true
   },
   "outputs": [],
   "source": [
    "los150 = (events.select(\"Source\", \"Id\")\n",
    "    .groupBy(\"Source\")\n",
    "    .agg(count(\"Id\").alias(\"tweets\"))\n",
    "    .orderBy(\"tweets\", ascending=False)\n",
    "    .limit(150))"
   ]
  },
  {
   "cell_type": "code",
   "execution_count": 6,
   "metadata": {},
   "outputs": [
    {
     "name": "stdout",
     "output_type": "stream",
     "text": [
      "+---------------+------+\n",
      "|         Source|tweets|\n",
      "+---------------+------+\n",
      "|     m_azharaji|   486|\n",
      "|     twitMOTOGP|   401|\n",
      "|      johnbokke|   297|\n",
      "|   qatarflights|   283|\n",
      "|     box_repsol|   267|\n",
      "|    yolandaa_95|   185|\n",
      "|    AlessiaPont|   182|\n",
      "|     MM93Lovers|   169|\n",
      "|    motomatters|   169|\n",
      "|     Sonic_Moto|   165|\n",
      "|  noelia_260797|   157|\n",
      "|    birtymotogp|   155|\n",
      "|  trackseven707|   152|\n",
      "|   crash_motogp|   149|\n",
      "|MarcMarquezTeam|   148|\n",
      "|    pedrosistas|   148|\n",
      "|   MotoFamilyGP|   144|\n",
      "|   Kay46_MotoGP|   142|\n",
      "|     Ciintiia93|   133|\n",
      "|    blogenboxes|   133|\n",
      "+---------------+------+\n",
      "only showing top 20 rows\n",
      "\n"
     ]
    }
   ],
   "source": [
    "los150.show()"
   ]
  },
  {
   "cell_type": "markdown",
   "metadata": {},
   "source": [
    "## Consulta 1b"
   ]
  },
  {
   "cell_type": "markdown",
   "metadata": {},
   "source": [
    "Ahora para este grupo de usuarios, vamos a calcular la media de hastag enviandos, para ello vamos calcular cuantos hastag envias los usuarios y realizando un join por la columna Source, nos quedaremos con los tweets enviados por esos 150 usuarios."
   ]
  },
  {
   "cell_type": "markdown",
   "metadata": {},
   "source": [
    "El procedimiento a seguir será devidir el body en palabras y contar cuantas de ella empiezan por # lo cual implica que es un hastag"
   ]
  },
  {
   "cell_type": "markdown",
   "metadata": {},
   "source": [
    "Para pasar de una columna de listas a una columna con estas filas desglosadas usaremos explode."
   ]
  },
  {
   "cell_type": "code",
   "execution_count": 7,
   "metadata": {
    "collapsed": true
   },
   "outputs": [],
   "source": [
    "j = events.select('Source', 'Body').withColumn('k', split(events.Body, ' '))"
   ]
  },
  {
   "cell_type": "code",
   "execution_count": 8,
   "metadata": {
    "collapsed": true
   },
   "outputs": [],
   "source": [
    "j2 = j.select(col(\"k\"), explode(col(\"k\")).alias(\"m\"), col('Source'))"
   ]
  },
  {
   "cell_type": "code",
   "execution_count": 9,
   "metadata": {
    "collapsed": true
   },
   "outputs": [],
   "source": [
    "j3 = j2.filter(j2.m.rlike('^#'))"
   ]
  },
  {
   "cell_type": "code",
   "execution_count": 10,
   "metadata": {
    "collapsed": true
   },
   "outputs": [],
   "source": [
    "j4 = j3.groupBy('Source').agg(count('m').alias('total'))"
   ]
  },
  {
   "cell_type": "markdown",
   "metadata": {},
   "source": [
    "Aqui ya podemos ver el número de hastag que envia cada usuario."
   ]
  },
  {
   "cell_type": "code",
   "execution_count": 11,
   "metadata": {},
   "outputs": [
    {
     "name": "stdout",
     "output_type": "stream",
     "text": [
      "+---------------+-----+\n",
      "|         Source|total|\n",
      "+---------------+-----+\n",
      "|          heyst|    2|\n",
      "|   threesnaGINT|    1|\n",
      "|TheLittleNobody|    2|\n",
      "|     speed_soul|   13|\n",
      "|    haydncobb22|    6|\n",
      "|   racytracey77|    4|\n",
      "| Etienne_Dokkum|   24|\n",
      "|monze_cervantes|    2|\n",
      "|      Rodando26|   10|\n",
      "|  GeraldohDiiaz|    2|\n",
      "|     kissdawind|    1|\n",
      "|      AidenGunn|    1|\n",
      "|    carl_watton|    1|\n",
      "|     eloyete_cg|   12|\n",
      "|  albertomordoj|    1|\n",
      "|      alexf1man|   17|\n",
      "|  HelenYatesArt|    4|\n",
      "|    RafaRamos_9|    1|\n",
      "|      KaiserD13|    2|\n",
      "|   Saritacosita|    1|\n",
      "+---------------+-----+\n",
      "only showing top 20 rows\n",
      "\n"
     ]
    }
   ],
   "source": [
    "j4.show()"
   ]
  },
  {
   "cell_type": "code",
   "execution_count": 12,
   "metadata": {
    "collapsed": true
   },
   "outputs": [],
   "source": [
    "distribuccion_final = (j4.alias('a').join(los150.alias('b'), j4.Source == los150.Source)\n",
    "                       .select('a.Source', 'total', 'tweets') )"
   ]
  },
  {
   "cell_type": "code",
   "execution_count": 13,
   "metadata": {
    "collapsed": true
   },
   "outputs": [],
   "source": [
    "media = distribuccion_final.withColumn('media', distribuccion_final.total/distribuccion_final.tweets)"
   ]
  },
  {
   "cell_type": "code",
   "execution_count": 14,
   "metadata": {},
   "outputs": [
    {
     "name": "stdout",
     "output_type": "stream",
     "text": [
      "+---------------+-----+------+------------------+\n",
      "|         Source|total|tweets|             media|\n",
      "+---------------+-----+------+------------------+\n",
      "|     Tom_Cruis3|  112|    56|               2.0|\n",
      "|    Noeliiia_93|   55|    70|0.7857142857142857|\n",
      "|         MotoGP|   84|    95|0.8842105263157894|\n",
      "|    Martin_Fi3d|  110|    55|               2.0|\n",
      "|    marianav3ga|  116|    58|               2.0|\n",
      "|  trackseven707|  136|   152|0.8947368421052632|\n",
      "|        MiniD0g|  116|    58|               2.0|\n",
      "|       Wyndha14|   48|    66|0.7272727272727273|\n",
      "| nisaauliarahma|   64|    64|               1.0|\n",
      "|      JesiPacio|  132|   130|1.0153846153846153|\n",
      "|    VAVEL_motor|   89|   124| 0.717741935483871|\n",
      "|     Javimoto46|   45|    55|0.8181818181818182|\n",
      "|   MotoGPquotes|  159|   123|1.2926829268292683|\n",
      "|   dinaarifiani|   42|    75|              0.56|\n",
      "|Silverstonecabs|  156|    78|               2.0|\n",
      "|  Alice_Inferno|  118|    59|               2.0|\n",
      "|   adelyellow46|   34|    78|0.4358974358974359|\n",
      "|     World_N3ws|  110|    55|               2.0|\n",
      "| OFCMarcMarquez|  118|    78|1.5128205128205128|\n",
      "|  FORMULAMotoGP|   92|    73|1.2602739726027397|\n",
      "+---------------+-----+------+------------------+\n",
      "only showing top 20 rows\n",
      "\n"
     ]
    }
   ],
   "source": [
    "media.show()"
   ]
  },
  {
   "cell_type": "code",
   "execution_count": 15,
   "metadata": {},
   "outputs": [
    {
     "name": "stdout",
     "output_type": "stream",
     "text": [
      "+---------------+-----+------+-------------------+\n",
      "|         Source|total|tweets|              media|\n",
      "+---------------+-----+------+-------------------+\n",
      "|       Cev_Ford|    6|   115|0.05217391304347826|\n",
      "|    motomatters|   18|   169|0.10650887573964497|\n",
      "|    MartinoMoto|   14|    96|0.14583333333333334|\n",
      "|    pedrosistas|   25|   148|0.16891891891891891|\n",
      "|    FansHM_9323|   19|   107|0.17757009345794392|\n",
      "|MarcMarquezTeam|   27|   148|0.18243243243243243|\n",
      "|MOTOaceleracion|   15|    71| 0.2112676056338028|\n",
      "| ArrancaMotores|   15|    61| 0.2459016393442623|\n",
      "|  ArwikaYulenda|   21|    84|               0.25|\n",
      "| ERA_agustini93|   25|    86|0.29069767441860467|\n",
      "|    ainoaaaaa95|   18|    58| 0.3103448275862069|\n",
      "|        aryVR46|   25|    72| 0.3472222222222222|\n",
      "|     Judith5Fdz|   21|    57| 0.3684210526315789|\n",
      "|   93MarquezFan|   26|    68|0.38235294117647056|\n",
      "|   Kay46_MotoGP|   57|   142| 0.4014084507042254|\n",
      "|        deabruX|   36|    87|0.41379310344827586|\n",
      "|   adelyellow46|   34|    78| 0.4358974358974359|\n",
      "|     thalia_26_|   53|   119|0.44537815126050423|\n",
      "|      merynebot|   37|    83| 0.4457831325301205|\n",
      "|nasyaafatharani|   25|    56|0.44642857142857145|\n",
      "+---------------+-----+------+-------------------+\n",
      "only showing top 20 rows\n",
      "\n"
     ]
    }
   ],
   "source": [
    "media.orderBy('media').show()"
   ]
  },
  {
   "cell_type": "code",
   "execution_count": 16,
   "metadata": {},
   "outputs": [
    {
     "data": {
      "text/plain": [
       "145"
      ]
     },
     "execution_count": 16,
     "metadata": {},
     "output_type": "execute_result"
    }
   ],
   "source": [
    "media.count()"
   ]
  },
  {
   "cell_type": "markdown",
   "metadata": {},
   "source": [
    "Faltan 5 de esos 150, será debido ha que no tienen hastag, es decir, de media 0"
   ]
  },
  {
   "cell_type": "markdown",
   "metadata": {},
   "source": [
    "Como se aprecia realizando el orderBy cuando no tenemos hastag no aparace"
   ]
  },
  {
   "cell_type": "markdown",
   "metadata": {},
   "source": [
    "# Consulta 2\n"
   ]
  },
  {
   "cell_type": "markdown",
   "metadata": {},
   "source": [
    "Buscamos aquellos tweets que tienen información de geolocaliación, la condición que deben cumplir es que comienze el campo  por ÜT.  Por tanto, filtrando por esta información y relizando un count sobre los que cumplen esta codición tendríamos resulta la consulta."
   ]
  },
  {
   "cell_type": "markdown",
   "metadata": {},
   "source": [
    "Antes de empezar vamos a revisar esta columna."
   ]
  },
  {
   "cell_type": "code",
   "execution_count": 19,
   "metadata": {},
   "outputs": [
    {
     "name": "stdout",
     "output_type": "stream",
     "text": [
      "+-------------------+\n",
      "|           Location|\n",
      "+-------------------+\n",
      "|          ???????? |\n",
      "|          ???????? |\n",
      "|          ???????? |\n",
      "|          ???????? |\n",
      "|          ???????? |\n",
      "|          ???????? |\n",
      "|London and Slovenia|\n",
      "|   IGD-Bangsal-ICCU|\n",
      "|             España|\n",
      "|         not public|\n",
      "|         not public|\n",
      "|      Sumbawa Barat|\n",
      "|         not public|\n",
      "|         Only in TV|\n",
      "|         Only in TV|\n",
      "|    Brescia, Italia|\n",
      "|             España|\n",
      "|             España|\n",
      "|         not public|\n",
      "|         not public|\n",
      "+-------------------+\n",
      "only showing top 20 rows\n",
      "\n"
     ]
    }
   ],
   "source": [
    "events.select('Location').show()"
   ]
  },
  {
   "cell_type": "markdown",
   "metadata": {},
   "source": [
    "Localización"
   ]
  },
  {
   "cell_type": "code",
   "execution_count": 20,
   "metadata": {
    "collapsed": true
   },
   "outputs": [],
   "source": [
    "localizados = events.select('Location').filter(events.Location.rlike('^ÜT'))"
   ]
  },
  {
   "cell_type": "code",
   "execution_count": 21,
   "metadata": {},
   "outputs": [
    {
     "data": {
      "text/plain": [
       "2136"
      ]
     },
     "execution_count": 21,
     "metadata": {},
     "output_type": "execute_result"
    }
   ],
   "source": [
    "localizados.count()"
   ]
  },
  {
   "cell_type": "code",
   "execution_count": 22,
   "metadata": {},
   "outputs": [
    {
     "name": "stdout",
     "output_type": "stream",
     "text": [
      "+--------------------+\n",
      "|            Location|\n",
      "+--------------------+\n",
      "|ÜT: -6.194637,106...|\n",
      "|ÜT: -6.9438429,10...|\n",
      "|ÜT: 13.750438,100...|\n",
      "|ÜT: 13.750438,100...|\n",
      "|ÜT: 52.338471,-0....|\n",
      "|ÜT: -8.5418039,11...|\n",
      "|ÜT: -8.5418039,11...|\n",
      "|ÜT: -8.5418039,11...|\n",
      "|ÜT: -6.9438429,10...|\n",
      "| ÜT: -8.015,112.6285|\n",
      "|ÜT: -6.9391193,10...|\n",
      "|ÜT: -8.5418039,11...|\n",
      "|ÜT: -8.5418039,11...|\n",
      "|ÜT: -6.21113,106....|\n",
      "|ÜT: 0.51545,101.4...|\n",
      "|ÜT: 52.338471,-0....|\n",
      "|ÜT: -6.814538,107...|\n",
      "|ÜT: -6.1314834,10...|\n",
      "|ÜT: 4.624875,-74....|\n",
      "|ÜT: 10.0678745,-6...|\n",
      "+--------------------+\n",
      "only showing top 20 rows\n",
      "\n"
     ]
    }
   ],
   "source": [
    "localizados.show()"
   ]
  },
  {
   "cell_type": "markdown",
   "metadata": {},
   "source": [
    "Como vemos el número de tweets geolozalizados es de 2136."
   ]
  },
  {
   "cell_type": "markdown",
   "metadata": {},
   "source": [
    "## CONSULTA 3"
   ]
  },
  {
   "cell_type": "markdown",
   "metadata": {
    "collapsed": true
   },
   "source": [
    "Calcular las 5 cuentas de tweeter más mencionadas, para ello filtramos aquellas que tienen tipe_action == 'MT' ya que en caso contario estariamos introduciendo información de otro tipo de acciones que no nos interesan."
   ]
  },
  {
   "cell_type": "code",
   "execution_count": 23,
   "metadata": {
    "collapsed": true
   },
   "outputs": [],
   "source": [
    "grupo3 = (events.select('Source', 'Mentions', 'Tipe_action')\n",
    "          .filter(events.Tipe_action == 'MT')\n",
    "          .withColumn('k', split(events.Mentions, ',')))"
   ]
  },
  {
   "cell_type": "markdown",
   "metadata": {},
   "source": [
    "Con este paso hemos creado una columna k en la cual ya tenemos una lista con las cuentas que se mencionan en cada tweet."
   ]
  },
  {
   "cell_type": "code",
   "execution_count": 24,
   "metadata": {
    "collapsed": true
   },
   "outputs": [],
   "source": [
    "metions = grupo3.select(col(\"k\"), explode(col(\"k\")).alias(\"m\"))"
   ]
  },
  {
   "cell_type": "markdown",
   "metadata": {},
   "source": [
    "Realizando el explode sobre esa columna generando otra nueva llamada m, ya tenemos todas las menciones, si ahora las constamos ya tendriamos solucionado la consulta."
   ]
  },
  {
   "cell_type": "code",
   "execution_count": 25,
   "metadata": {},
   "outputs": [
    {
     "name": "stdout",
     "output_type": "stream",
     "text": [
      "+--------------------+---------------+\n",
      "|                   k|              m|\n",
      "+--------------------+---------------+\n",
      "|[marcmarquez93, v...|  marcmarquez93|\n",
      "|[marcmarquez93, v...|   valeyellow46|\n",
      "|             [aan__]|          aan__|\n",
      "|     [marcmarquez93]|  marcmarquez93|\n",
      "|     [marcmarquez93]|  marcmarquez93|\n",
      "|     [marcmarquez93]|  marcmarquez93|\n",
      "|[rossistas, valey...|      rossistas|\n",
      "|[rossistas, valey...|   valeyellow46|\n",
      "|      [valeyellow46]|   valeyellow46|\n",
      "|    [valeyellow46, ]|   valeyellow46|\n",
      "|    [valeyellow46, ]|               |\n",
      "|     [marcmarquez93]|  marcmarquez93|\n",
      "|[jessansan, 88jor...|      jessansan|\n",
      "|[jessansan, 88jor...|  88jorgemartin|\n",
      "|[jessansan, 88jor...|pitoslocosmclub|\n",
      "|[jessansan, 88jor...|circuitodejerez|\n",
      "|[jessansan, 88jor...|    luissalom39|\n",
      "|[jessansan, 88jor...|      jessansan|\n",
      "|[jessansan, 88jor...|  88jorgemartin|\n",
      "|[jessansan, 88jor...|pitoslocosmclub|\n",
      "+--------------------+---------------+\n",
      "only showing top 20 rows\n",
      "\n"
     ]
    }
   ],
   "source": [
    "metions.show()"
   ]
  },
  {
   "cell_type": "markdown",
   "metadata": {},
   "source": [
    "Si realizamos un count() sobre la columna m agrupando por valores distintos, tenemos resuelta la consulta."
   ]
  },
  {
   "cell_type": "code",
   "execution_count": 26,
   "metadata": {},
   "outputs": [
    {
     "name": "stdout",
     "output_type": "stream",
     "text": [
      "+--------------+-----+\n",
      "|             m|    y|\n",
      "+--------------+-----+\n",
      "|  valeyellow46|19599|\n",
      "| marcmarquez93|16826|\n",
      "|        motogp| 7770|\n",
      "|     lorenzo99| 6969|\n",
      "|26_danipedrosa| 3093|\n",
      "+--------------+-----+\n",
      "\n"
     ]
    }
   ],
   "source": [
    "metions.groupBy('m').agg(count('m').alias('y')).orderBy('y',ascending=False).limit(5).show()"
   ]
  },
  {
   "cell_type": "markdown",
   "metadata": {},
   "source": [
    "Estas son las 5 cuentas más mencionadas. Como era de esperar todas ellas se refieren a pilotos (la primera cuenta es la de Valentino Rossi) y una a la competición motogp. "
   ]
  },
  {
   "cell_type": "markdown",
   "metadata": {},
   "source": [
    "# CONSULTA 4"
   ]
  },
  {
   "cell_type": "markdown",
   "metadata": {},
   "source": [
    "Calculamos primero los mensajes con más retweets y con más respuestas, más tarde en el segundo paso aplicaremos la ventana temporal indicada en el enunciado."
   ]
  },
  {
   "cell_type": "markdown",
   "metadata": {},
   "source": [
    "Calculamos los mensajes con más RT, para ello tenemos que filtrar por tipe_action = RT y agrupar por el Body del tweet."
   ]
  },
  {
   "cell_type": "code",
   "execution_count": 27,
   "metadata": {
    "collapsed": true
   },
   "outputs": [],
   "source": [
    "Parte1_ret = events.filter(events.Tipe_action == 'RT').select('Body', 'Tipe_action')"
   ]
  },
  {
   "cell_type": "code",
   "execution_count": 28,
   "metadata": {},
   "outputs": [
    {
     "name": "stdout",
     "output_type": "stream",
     "text": [
      "+--------------------+-----------+\n",
      "|                Body|Tipe_action|\n",
      "+--------------------+-----------+\n",
      "| mbah goolge terc...|         RT|\n",
      "|' rt @motogp: ano...|         RT|\n",
      "|!!! rt @dhika46: ...|         RT|\n",
      "|!!!! rt @birtymot...|         RT|\n",
      "|#46 never die rt ...|         RT|\n",
      "|#46 rt @motogp: c...|         RT|\n",
      "|#93 rt @hndra_wir...|         RT|\n",
      "|#99 #viscabarca :...|         RT|\n",
      "|#akurapopo rt @lo...|         RT|\n",
      "|#akurapopo rt @mo...|         RT|\n",
      "|#animojorge rt @o...|         RT|\n",
      "|#barcaday & #marq...|         RT|\n",
      "|#bleedingnose rt ...|         RT|\n",
      "|#btsport @btsport...|         RT|\n",
      "|#cal #brad #smith...|         RT|\n",
      "|#dp26 at qatar mo...|         RT|\n",
      "|#elclasicomotogp ...|         RT|\n",
      "|#emozioneda93 rt ...|         RT|\n",
      "|#ferrari #f1 rt @...|         RT|\n",
      "|#forzavale #goval...|         RT|\n",
      "+--------------------+-----------+\n",
      "only showing top 20 rows\n",
      "\n"
     ]
    }
   ],
   "source": [
    "Parte1_ret.show()"
   ]
  },
  {
   "cell_type": "markdown",
   "metadata": {},
   "source": [
    "Una vez tenemos filtrados los mensajes que nos interesan agrupamos y contamos por el campo Body."
   ]
  },
  {
   "cell_type": "code",
   "execution_count": 29,
   "metadata": {
    "collapsed": true
   },
   "outputs": [],
   "source": [
    "part2_ret = (Parte1_ret.groupBy('Body')\n",
    "                       .agg(count('Body').alias('numero'))\n",
    "                       .orderBy('numero', ascending=False)\n",
    "                        .limit(10))"
   ]
  },
  {
   "cell_type": "code",
   "execution_count": 30,
   "metadata": {},
   "outputs": [
    {
     "name": "stdout",
     "output_type": "stream",
     "text": [
      "+--------------------+------+\n",
      "|                Body|numero|\n",
      "+--------------------+------+\n",
      "|rt @marcmarquez93...|  5538|\n",
      "|rt @valeyellow46:...|  4995|\n",
      "|rt @marcmarquez93...|  3320|\n",
      "|rt @marcmarquez93...|  3237|\n",
      "|rt @motogp: #qata...|  2874|\n",
      "|rt @valeyellow46:...|  2407|\n",
      "|rt @motogp: anoth...|  2306|\n",
      "|rt @marcmarquez93...|  1773|\n",
      "|rt @lorenzo99: pe...|  1690|\n",
      "|rt @motogp: for t...|  1640|\n",
      "+--------------------+------+\n",
      "\n"
     ]
    }
   ],
   "source": [
    "part2_ret.show()"
   ]
  },
  {
   "cell_type": "markdown",
   "metadata": {},
   "source": [
    "part2_ret contiene el numero de veces que cada mensaje ha sido RT."
   ]
  },
  {
   "cell_type": "markdown",
   "metadata": {},
   "source": [
    "Continuamos nuestro estudio con los tweets con más respuestas. Nos encontramos en una situación similar a la anterior, debemos fija que tipe_action!= RT y que el campo Parent_sys_id sea != 'sin_padre' con esta serie de pasos nos aseguramos que estamos filtrando los tweets que deseamos "
   ]
  },
  {
   "cell_type": "code",
   "execution_count": 31,
   "metadata": {
    "collapsed": true
   },
   "outputs": [],
   "source": [
    "Parte1_res = (events.select('Parent_sys_id' ,'Tipe_action')\n",
    "                    .filter(events.Tipe_action != 'RT')\n",
    "                     .filter(events.Parent_sys_id != 'sin padre')\n",
    "                     .groupBy('Parent_sys_id')\n",
    "                       .agg(count('Parent_sys_id').alias('numero'))\n",
    "                       .orderBy('numero', ascending=False)\n",
    "                        .limit(10))"
   ]
  },
  {
   "cell_type": "code",
   "execution_count": 32,
   "metadata": {},
   "outputs": [
    {
     "name": "stdout",
     "output_type": "stream",
     "text": [
      "+-------------+------+\n",
      "|Parent_sys_id|numero|\n",
      "+-------------+------+\n",
      "|       681159|   554|\n",
      "|       605727|   530|\n",
      "|       603804|   519|\n",
      "|       674825|   493|\n",
      "|       460820|   235|\n",
      "|       738975|   210|\n",
      "|       758581|   154|\n",
      "|       488086|   136|\n",
      "|       461756|   126|\n",
      "|       710916|   115|\n",
      "+-------------+------+\n",
      "\n"
     ]
    }
   ],
   "source": [
    "Parte1_res.show()"
   ]
  },
  {
   "cell_type": "markdown",
   "metadata": {},
   "source": [
    "Pasamos a la segunda parte del ejercicio, debemos repetir el tratamiento anterior pero fijando ahora una ventana temporal. Antes de comenzar revisamos que pinta tiene el campo Pub_date."
   ]
  },
  {
   "cell_type": "code",
   "execution_count": 33,
   "metadata": {
    "scrolled": true
   },
   "outputs": [
    {
     "name": "stdout",
     "output_type": "stream",
     "text": [
      "+-------------------+\n",
      "|           Pub_date|\n",
      "+-------------------+\n",
      "|2014-03-23 22:32:00|\n",
      "|2014-03-23 22:48:00|\n",
      "|2014-03-23 18:37:00|\n",
      "|2014-03-24 01:54:00|\n",
      "|2014-03-24 01:54:00|\n",
      "|2014-03-24 01:54:00|\n",
      "|2014-03-25 11:45:00|\n",
      "|2014-03-24 13:29:00|\n",
      "|2014-03-23 23:49:00|\n",
      "|2014-03-23 21:54:00|\n",
      "|2014-03-25 17:47:00|\n",
      "|2014-03-23 21:13:00|\n",
      "|2014-03-25 17:47:00|\n",
      "|2014-03-23 19:11:00|\n",
      "|2014-03-23 20:48:00|\n",
      "|2014-03-23 19:24:00|\n",
      "|2014-03-26 12:16:00|\n",
      "|2014-03-24 13:03:00|\n",
      "|2014-03-23 23:06:00|\n",
      "|2014-03-23 21:06:00|\n",
      "+-------------------+\n",
      "only showing top 20 rows\n",
      "\n"
     ]
    }
   ],
   "source": [
    "events.select('Pub_date').show()"
   ]
  },
  {
   "cell_type": "markdown",
   "metadata": {},
   "source": [
    "Vamos a proceder al filtrado de la ventana temporal:"
   ]
  },
  {
   "cell_type": "code",
   "execution_count": 34,
   "metadata": {
    "collapsed": true
   },
   "outputs": [],
   "source": [
    "events4 = events.filter((events.Pub_date >= (\"2014-03-24 05:00:00\")) & (events.Pub_date <= (\"2014-03-24 11:00:00\")))"
   ]
  },
  {
   "cell_type": "code",
   "execution_count": 35,
   "metadata": {},
   "outputs": [
    {
     "name": "stdout",
     "output_type": "stream",
     "text": [
      "+-------------------+\n",
      "|           Pub_date|\n",
      "+-------------------+\n",
      "|2014-03-24 11:00:00|\n",
      "|2014-03-24 11:00:00|\n",
      "|2014-03-24 11:00:00|\n",
      "|2014-03-24 11:00:00|\n",
      "|2014-03-24 11:00:00|\n",
      "|2014-03-24 11:00:00|\n",
      "|2014-03-24 11:00:00|\n",
      "|2014-03-24 11:00:00|\n",
      "|2014-03-24 11:00:00|\n",
      "|2014-03-24 11:00:00|\n",
      "|2014-03-24 11:00:00|\n",
      "|2014-03-24 11:00:00|\n",
      "|2014-03-24 11:00:00|\n",
      "|2014-03-24 11:00:00|\n",
      "|2014-03-24 11:00:00|\n",
      "|2014-03-24 11:00:00|\n",
      "|2014-03-24 11:00:00|\n",
      "|2014-03-24 11:00:00|\n",
      "|2014-03-24 11:00:00|\n",
      "|2014-03-24 11:00:00|\n",
      "+-------------------+\n",
      "only showing top 20 rows\n",
      "\n"
     ]
    }
   ],
   "source": [
    "events4.select('Pub_date').orderBy('Pub_date', ascending=False).show()"
   ]
  },
  {
   "cell_type": "markdown",
   "metadata": {
    "collapsed": true
   },
   "source": [
    "Ahora que ya tenemos fijada la ventana temporal y guardados los tweets que se realizaron dentro de ella, vamos a realizar sobre esta los calculos anteriores."
   ]
  },
  {
   "cell_type": "code",
   "execution_count": 36,
   "metadata": {
    "collapsed": true
   },
   "outputs": [],
   "source": [
    "Parte2_res = (events4.select('Parent_sys_id' ,'Tipe_action')\n",
    "                    .filter(events.Tipe_action != 'RT')\n",
    "                     .filter(events.Parent_sys_id != 'sin padre')\n",
    "                     .groupBy('Parent_sys_id')\n",
    "                       .agg(count('Parent_sys_id').alias('numero'))\n",
    "                       .orderBy('numero', ascending=False)\n",
    "                        .limit(10))"
   ]
  },
  {
   "cell_type": "code",
   "execution_count": 37,
   "metadata": {},
   "outputs": [
    {
     "name": "stdout",
     "output_type": "stream",
     "text": [
      "+-------------+------+\n",
      "|Parent_sys_id|numero|\n",
      "+-------------+------+\n",
      "|       603804|    65|\n",
      "|       605727|    54|\n",
      "|       666385|    30|\n",
      "|       664891|    16|\n",
      "|       645225|    14|\n",
      "|       645626|    14|\n",
      "|       645328|    13|\n",
      "|       626650|     9|\n",
      "|       622993|     8|\n",
      "|       579001|     7|\n",
      "+-------------+------+\n",
      "\n"
     ]
    }
   ],
   "source": [
    "Parte2_res.show()"
   ]
  },
  {
   "cell_type": "code",
   "execution_count": 38,
   "metadata": {
    "collapsed": true
   },
   "outputs": [],
   "source": [
    "Parte3_ret = events4.filter(events.Tipe_action == 'RT').select('Body', 'Tipe_action')"
   ]
  },
  {
   "cell_type": "code",
   "execution_count": 39,
   "metadata": {
    "collapsed": true
   },
   "outputs": [],
   "source": [
    "part4_ret = (Parte3_ret.groupBy('Body')\n",
    "                       .agg(count('Body').alias('numero'))\n",
    "                       .orderBy('numero', ascending=False)\n",
    "                        .limit(10))"
   ]
  },
  {
   "cell_type": "code",
   "execution_count": 40,
   "metadata": {},
   "outputs": [
    {
     "name": "stdout",
     "output_type": "stream",
     "text": [
      "+--------------------+------+\n",
      "|                Body|numero|\n",
      "+--------------------+------+\n",
      "|rt @marcmarquez93...|   475|\n",
      "|rt @jessansan: no...|   445|\n",
      "|rt @jessansan: qu...|   390|\n",
      "|rt @marcmarquez93...|   333|\n",
      "|rt @jessansan: va...|   222|\n",
      "|rt @lorenzo99: pe...|   167|\n",
      "|rt @falcio78: @va...|   148|\n",
      "|rt @albitebaldi: ...|   147|\n",
      "|rt @motogp: #qata...|   101|\n",
      "|rt @mflamigni: ch...|    97|\n",
      "+--------------------+------+\n",
      "\n"
     ]
    }
   ],
   "source": [
    "part4_ret.show()"
   ]
  },
  {
   "cell_type": "code",
   "execution_count": null,
   "metadata": {
    "collapsed": true
   },
   "outputs": [],
   "source": []
  }
 ],
 "metadata": {
  "kernelspec": {
   "display_name": "Python 3",
   "language": "python",
   "name": "python3"
  },
  "language_info": {
   "codemirror_mode": {
    "name": "ipython",
    "version": 3
   },
   "file_extension": ".py",
   "mimetype": "text/x-python",
   "name": "python",
   "nbconvert_exporter": "python",
   "pygments_lexer": "ipython3",
   "version": "3.6.3"
  }
 },
 "nbformat": 4,
 "nbformat_minor": 2
}
